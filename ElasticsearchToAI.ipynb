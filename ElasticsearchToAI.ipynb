{
 "cells": [
  {
   "cell_type": "markdown",
   "id": "b39c7ae8-8640-484c-92e6-befb238c6044",
   "metadata": {},
   "source": [
    "# Elasticsearch To OpenAI"
   ]
  },
  {
   "cell_type": "code",
   "execution_count": 1,
   "id": "82f71837-8742-485f-9736-2c0350f52186",
   "metadata": {},
   "outputs": [
    {
     "name": "stderr",
     "output_type": "stream",
     "text": [
      "/usr/local/python/3.10.13/lib/python3.10/site-packages/tqdm/auto.py:21: TqdmWarning: IProgress not found. Please update jupyter and ipywidgets. See https://ipywidgets.readthedocs.io/en/stable/user_install.html\n",
      "  from .autonotebook import tqdm as notebook_tqdm\n"
     ]
    }
   ],
   "source": [
    "import json\n",
    "import requests\n",
    "import tiktoken\n",
    "import openai\n",
    "from openai import OpenAI\n",
    "from elasticsearch import Elasticsearch\n",
    "from tqdm.auto import tqdm"
   ]
  },
  {
   "cell_type": "markdown",
   "id": "6a0921cf-f579-4910-abef-ac7a0c7984e6",
   "metadata": {},
   "source": [
    "## Run Elasticsearch"
   ]
  },
  {
   "cell_type": "code",
   "execution_count": 2,
   "id": "b36dd1d8-731e-466b-8511-a2847d7b200e",
   "metadata": {},
   "outputs": [],
   "source": [
    "# Get an Elasticsearch client\n",
    "es_client =  Elasticsearch('http://localhost:9200')"
   ]
  },
  {
   "cell_type": "code",
   "execution_count": 3,
   "id": "d9895d11-afd1-4de7-9ef4-625d2dcddeab",
   "metadata": {},
   "outputs": [
    {
     "data": {
      "text/plain": [
       "ObjectApiResponse({'name': '2cb954d905de', 'cluster_name': 'docker-cluster', 'cluster_uuid': 'LDOx-9RnQU2nl-wYcko81A', 'version': {'number': '8.4.3', 'build_flavor': 'default', 'build_type': 'docker', 'build_hash': '42f05b9372a9a4a470db3b52817899b99a76ee73', 'build_date': '2022-10-04T07:17:24.662462378Z', 'build_snapshot': False, 'lucene_version': '9.3.0', 'minimum_wire_compatibility_version': '7.17.0', 'minimum_index_compatibility_version': '7.0.0'}, 'tagline': 'You Know, for Search'})"
      ]
     },
     "execution_count": 3,
     "metadata": {},
     "output_type": "execute_result"
    }
   ],
   "source": [
    "# Verify Connection to Elasticsearch\n",
    "es_client.info()"
   ]
  },
  {
   "cell_type": "markdown",
   "id": "35bbaccb-604a-4ba9-9b04-fbfa6d777d18",
   "metadata": {},
   "source": [
    "## Get the Data"
   ]
  },
  {
   "cell_type": "code",
   "execution_count": 4,
   "id": "8f05b03c-8f32-49a9-a11b-f9f27b208680",
   "metadata": {},
   "outputs": [],
   "source": [
    "# Retrieve the data\n",
    "docs_url = 'https://github.com/DataTalksClub/llm-zoomcamp/blob/main/01-intro/documents.json?raw=1'\n",
    "docs_response = requests.get(docs_url)\n",
    "documents_raw = docs_response.json()\n",
    "\n",
    "# Parse the documents\n",
    "documents = []\n",
    "\n",
    "for course in documents_raw:\n",
    "    course_name = course['course']\n",
    "\n",
    "    for doc in course['documents']:\n",
    "        doc['course'] = course_name\n",
    "        documents.append(doc)"
   ]
  },
  {
   "cell_type": "markdown",
   "id": "bb56605b-e59c-4050-9276-108cd8677c68",
   "metadata": {},
   "source": [
    "## Index the Data"
   ]
  },
  {
   "cell_type": "code",
   "execution_count": 5,
   "id": "09e32def-a140-4eab-be78-9face294846f",
   "metadata": {},
   "outputs": [
    {
     "data": {
      "text/plain": [
       "ObjectApiResponse({'acknowledged': True, 'shards_acknowledged': True, 'index': 'user_questions'})"
      ]
     },
     "execution_count": 5,
     "metadata": {},
     "output_type": "execute_result"
    }
   ],
   "source": [
    "# Create an index in Elasticsearch\n",
    "index_settings = {\n",
    "    \"settings\": {\n",
    "        \"number_of_shards\": 1,\n",
    "        \"number_of_replicas\": 0\n",
    "    },\n",
    "    \"mappings\": {\n",
    "        \"properties\": {\n",
    "            \"text\": {\"type\": \"text\"},\n",
    "            \"question\": {\"type\": \"text\"}\n",
    "        }\n",
    "    }\n",
    "}\n",
    "\n",
    "index_name = \"user_questions\"\n",
    "\n",
    "es_client.indices.create(index=index_name, body=index_settings)"
   ]
  },
  {
   "cell_type": "code",
   "execution_count": 6,
   "id": "ca116874-9549-43e1-a766-3d1e00c631f7",
   "metadata": {},
   "outputs": [
    {
     "name": "stderr",
     "output_type": "stream",
     "text": [
      "100%|█████████████████████████████████████████████████████████████████████████████████████████████| 948/948 [00:23<00:00, 40.25it/s]\n"
     ]
    }
   ],
   "source": [
    "# Fit an Elasticsearch client index with the documents\n",
    "for doc in tqdm(documents):\n",
    "    es_client.index(index=index_name, document=doc)"
   ]
  },
  {
   "cell_type": "markdown",
   "id": "d2a6e7e3-34c8-45da-bc9b-fb34570bb113",
   "metadata": {},
   "source": [
    "## Search the data"
   ]
  },
  {
   "cell_type": "code",
   "execution_count": 7,
   "id": "bed84aa9-8b33-43dc-a95c-59a948ef0848",
   "metadata": {},
   "outputs": [],
   "source": [
    "query = 'How do I execute a command in a running docker container?'"
   ]
  },
  {
   "cell_type": "code",
   "execution_count": 8,
   "id": "84ae26a8-fa82-4687-aa73-0b7ebe8a6214",
   "metadata": {},
   "outputs": [],
   "source": [
    "# Query the document for the query and retrieve a response\n",
    "def elastic_search(query):\n",
    "    # Create a list that holds the results\n",
    "    result_docs = []\n",
    "    \n",
    "    # Query format for the data\n",
    "    search_query = {\n",
    "        \"size\": 5,\n",
    "        \"query\": {\n",
    "            \"bool\": {\n",
    "                \"must\": {\n",
    "                    \"multi_match\": {\n",
    "                        \"query\": query,\n",
    "                        \"fields\": [\"question^4\", \"text\"],\n",
    "                        \"type\": \"best_fields\"\n",
    "                    }\n",
    "                }\n",
    "            }\n",
    "        }\n",
    "    }\n",
    "\n",
    "    # Retrieve the responses\n",
    "    response = es_client.search(index=index_name, body=search_query)\n",
    "\n",
    "    # Retrieve the results\n",
    "    for hit in response['hits']['hits']:\n",
    "        result_docs.append(hit['_score'])\n",
    "\n",
    "    return result_docs"
   ]
  },
  {
   "cell_type": "code",
   "execution_count": 9,
   "id": "bbeb8e1f-63ab-452a-8da4-8e7a55add7e0",
   "metadata": {},
   "outputs": [
    {
     "data": {
      "text/plain": [
       "[83.526276, 75.62604, 72.16631, 50.787666, 49.62014]"
      ]
     },
     "execution_count": 9,
     "metadata": {},
     "output_type": "execute_result"
    }
   ],
   "source": [
    "elastic_search(query)"
   ]
  },
  {
   "cell_type": "markdown",
   "id": "354c1597-d448-4c13-99ca-e1dae22fdfc5",
   "metadata": {},
   "source": [
    "## Filter the data"
   ]
  },
  {
   "cell_type": "code",
   "execution_count": 10,
   "id": "936cfb72-9143-4d09-b36c-6b6532db41e7",
   "metadata": {},
   "outputs": [
    {
     "data": {
      "text/plain": [
       "ObjectApiResponse({'acknowledged': True, 'shards_acknowledged': True, 'index': 'course_questions'})"
      ]
     },
     "execution_count": 10,
     "metadata": {},
     "output_type": "execute_result"
    }
   ],
   "source": [
    "# Create a filtered index\n",
    "course_index_settings = {\n",
    "    \"settings\": {\n",
    "        \"number_of_shards\": 1,\n",
    "        \"number_of_replicas\": 0\n",
    "    },\n",
    "    \"mappings\": {\n",
    "        \"properties\": {\n",
    "            \"text\": {\"type\": \"text\"},\n",
    "            \"question\": {\"type\": \"text\"},\n",
    "            \"course\": {\"type\": \"keyword\"} \n",
    "        }\n",
    "    }\n",
    "}\n",
    "\n",
    "course_index_name = \"course_questions\"\n",
    "\n",
    "es_client.indices.create(index=course_index_name, body=course_index_settings)"
   ]
  },
  {
   "cell_type": "code",
   "execution_count": 11,
   "id": "bf4e9141-cd1f-4e38-afb0-339fafac5a80",
   "metadata": {},
   "outputs": [
    {
     "name": "stderr",
     "output_type": "stream",
     "text": [
      "100%|█████████████████████████████████████████████████████████████████████████████████████████████| 948/948 [00:23<00:00, 40.89it/s]\n"
     ]
    }
   ],
   "source": [
    "# Fit an Elasticsearch client index with the documents\n",
    "for doc in tqdm(documents):\n",
    "    es_client.index(index=course_index_name, document=doc)"
   ]
  },
  {
   "cell_type": "code",
   "execution_count": 12,
   "id": "4689f025-a38e-4bc0-a99b-66964c8294f6",
   "metadata": {},
   "outputs": [],
   "source": [
    "# Query the filtered document for the query and retrieve a response\n",
    "def elastic_filtered_search(query):\n",
    "    # Create a list that holds the results\n",
    "    filtered_result_docs = []\n",
    "    \n",
    "    # Query format for the data\n",
    "    filtered_search_query = {\n",
    "        \"size\": 3,\n",
    "        \"query\": {\n",
    "            \"bool\": {\n",
    "                \"must\": {\n",
    "                    \"multi_match\": {\n",
    "                        \"query\": query,\n",
    "                        \"fields\": [\"question^4\", \"text\"],\n",
    "                        \"type\": \"best_fields\"\n",
    "                    }\n",
    "                },\n",
    "                \"filter\": {\n",
    "                    \"term\": {\n",
    "                        \"course\": \"machine-learning-zoomcamp\"\n",
    "                    }\n",
    "                }\n",
    "            }\n",
    "        }\n",
    "    }\n",
    "\n",
    "    # Retrieve the responses\n",
    "    filtered_response = es_client.search(index=course_index_name, body=filtered_search_query)\n",
    "\n",
    "    # Retrieve the results\n",
    "    for hit in filtered_response['hits']['hits']:\n",
    "        filtered_result_docs.append(hit['_source'])\n",
    "\n",
    "    return filtered_result_docs"
   ]
  },
  {
   "cell_type": "code",
   "execution_count": 13,
   "id": "737b33f0-4c95-42b0-bd5a-a0208e4573e0",
   "metadata": {},
   "outputs": [
    {
     "data": {
      "text/plain": [
       "[{'text': 'Launch the container image in interactive mode and overriding the entrypoint, so that it starts a bash command.\\ndocker run -it --entrypoint bash <image>\\nIf the container is already running, execute a command in the specific container:\\ndocker ps (find the container-id)\\ndocker exec -it <container-id> bash\\n(Marcos MJD)',\n",
       "  'section': '5. Deploying Machine Learning Models',\n",
       "  'question': 'How do I debug a docker container?',\n",
       "  'course': 'machine-learning-zoomcamp'},\n",
       " {'text': \"You can copy files from your local machine into a Docker container using the docker cp command. Here's how to do it:\\nTo copy a file or directory from your local machine into a running Docker container, you can use the `docker cp command`. The basic syntax is as follows:\\ndocker cp /path/to/local/file_or_directory container_id:/path/in/container\\nHrithik Kumar Advani\",\n",
       "  'section': '5. Deploying Machine Learning Models',\n",
       "  'question': 'How do I copy files from my local machine to docker container?',\n",
       "  'course': 'machine-learning-zoomcamp'},\n",
       " {'text': 'You can copy files from your local machine into a Docker container using the docker cp command. Here\\'s how to do it:\\nIn the Dockerfile, you can provide the folder containing the files that you want to copy over. The basic syntax is as follows:\\nCOPY [\"src/predict.py\", \"models/xgb_model.bin\", \"./\"]\\t\\t\\t\\t\\t\\t\\t\\t\\t\\t\\tGopakumar Gopinathan',\n",
       "  'section': '5. Deploying Machine Learning Models',\n",
       "  'question': 'How do I copy files from a different folder into docker container’s working directory?',\n",
       "  'course': 'machine-learning-zoomcamp'}]"
      ]
     },
     "execution_count": 13,
     "metadata": {},
     "output_type": "execute_result"
    }
   ],
   "source": [
    "elastic_filtered_search(query)"
   ]
  },
  {
   "cell_type": "markdown",
   "id": "378710db-2290-480f-9cfb-ad1c4acc74a8",
   "metadata": {},
   "source": [
    "## Build a Prompt"
   ]
  },
  {
   "cell_type": "code",
   "execution_count": 14,
   "id": "4e28bd2f-bca4-4f2c-bf9f-da6ecad43741",
   "metadata": {},
   "outputs": [],
   "source": [
    "# Build a prompt\n",
    "def build_prompt(query, search_results):\n",
    "    prompt_template = \"\"\"\n",
    "You're a course teaching assistant. Answer the QUESTION base on the CONTEXT from the FAQ database.\n",
    "Use only the facts from the CONTEXT when answering the QUESTION.\n",
    "\n",
    "QUESTION: {question}\n",
    "\n",
    "CONTEXT: \n",
    "{context}\n",
    "\"\"\".strip()\n",
    "\n",
    "    context_template = \"\"\"\n",
    "Q: {question}\n",
    "A: {text}\n",
    "\"\"\".strip()\n",
    "\n",
    "    context = \"\"\n",
    "    \n",
    "    for doc in search_results:\n",
    "        context = context + f\"Q: {doc['question']}\\nA: {doc['text']}\\n\\n\"    \n",
    "\n",
    "    prompt = prompt_template.format(question=query, context=context).strip()\n",
    "    return prompt"
   ]
  },
  {
   "cell_type": "code",
   "execution_count": 15,
   "id": "f8ebe8a3-31f5-4903-a79d-d56f5df052b2",
   "metadata": {},
   "outputs": [],
   "source": [
    "# Search the document\n",
    "search_results = elastic_filtered_search(query)\n",
    "\n",
    "# Use the search response to build the context\n",
    "prompt = build_prompt(query, search_results)"
   ]
  },
  {
   "cell_type": "code",
   "execution_count": 16,
   "id": "786f6bb1-d822-43a0-a505-d2ddd1b5d200",
   "metadata": {},
   "outputs": [
    {
     "data": {
      "text/plain": [
       "1462"
      ]
     },
     "execution_count": 16,
     "metadata": {},
     "output_type": "execute_result"
    }
   ],
   "source": [
    "len(prompt)"
   ]
  },
  {
   "cell_type": "code",
   "execution_count": 17,
   "id": "2014196e-32c8-4227-b139-9e58134fe3de",
   "metadata": {},
   "outputs": [
    {
     "name": "stdout",
     "output_type": "stream",
     "text": [
      "You're a course teaching assistant. Answer the QUESTION base on the CONTEXT from the FAQ database.\n",
      "Use only the facts from the CONTEXT when answering the QUESTION.\n",
      "\n",
      "QUESTION: How do I execute a command in a running docker container?\n",
      "\n",
      "CONTEXT: \n",
      "Q: How do I debug a docker container?\n",
      "A: Launch the container image in interactive mode and overriding the entrypoint, so that it starts a bash command.\n",
      "docker run -it --entrypoint bash <image>\n",
      "If the container is already running, execute a command in the specific container:\n",
      "docker ps (find the container-id)\n",
      "docker exec -it <container-id> bash\n",
      "(Marcos MJD)\n",
      "\n",
      "Q: How do I copy files from my local machine to docker container?\n",
      "A: You can copy files from your local machine into a Docker container using the docker cp command. Here's how to do it:\n",
      "To copy a file or directory from your local machine into a running Docker container, you can use the `docker cp command`. The basic syntax is as follows:\n",
      "docker cp /path/to/local/file_or_directory container_id:/path/in/container\n",
      "Hrithik Kumar Advani\n",
      "\n",
      "Q: How do I copy files from a different folder into docker container’s working directory?\n",
      "A: You can copy files from your local machine into a Docker container using the docker cp command. Here's how to do it:\n",
      "In the Dockerfile, you can provide the folder containing the files that you want to copy over. The basic syntax is as follows:\n",
      "COPY [\"src/predict.py\", \"models/xgb_model.bin\", \"./\"]\t\t\t\t\t\t\t\t\t\t\tGopakumar Gopinathan\n"
     ]
    }
   ],
   "source": [
    "print(prompt)"
   ]
  },
  {
   "cell_type": "markdown",
   "id": "2138115f-e5ed-41ae-90a3-48d2119266f8",
   "metadata": {},
   "source": [
    "## Number of Tokens in the Query"
   ]
  },
  {
   "cell_type": "code",
   "execution_count": 18,
   "id": "bc5ca19c-74d8-49f4-b009-0390f052ea40",
   "metadata": {},
   "outputs": [],
   "source": [
    "encoding = tiktoken.encoding_for_model(\"gpt-4o\")"
   ]
  },
  {
   "cell_type": "code",
   "execution_count": 19,
   "id": "61687234-1dff-49c4-bf2a-d2d0ddc80ee5",
   "metadata": {},
   "outputs": [
    {
     "data": {
      "text/plain": [
       "323"
      ]
     },
     "execution_count": 19,
     "metadata": {},
     "output_type": "execute_result"
    }
   ],
   "source": [
    "len(encoding.encode(prompt))"
   ]
  },
  {
   "cell_type": "markdown",
   "id": "b5881855-5e11-4cbe-b8ad-af5b0836f77d",
   "metadata": {},
   "source": [
    "## Bonus:  Send the prompt to OpenAI"
   ]
  },
  {
   "cell_type": "code",
   "execution_count": 20,
   "id": "effbff88-befe-452c-a2ae-5829a4252fe9",
   "metadata": {},
   "outputs": [],
   "source": [
    "# Get an OpenAI client\n",
    "client = OpenAI()"
   ]
  },
  {
   "cell_type": "code",
   "execution_count": 21,
   "id": "4ddd470b-9098-4526-90a1-fdd6958fadf0",
   "metadata": {},
   "outputs": [],
   "source": [
    "# Send prompt to OpenAI\n",
    "def llm(prompt):\n",
    "    response = client.chat.completions.create(model='gpt-4o', messages=[{\"role\": \"user\", \"content\": prompt}])\n",
    "    return response.choices[0].message.content"
   ]
  },
  {
   "cell_type": "code",
   "execution_count": 22,
   "id": "f13191fd-b73b-4f12-be29-8dd8392259fc",
   "metadata": {},
   "outputs": [],
   "source": [
    "# Perform a search, generate a prompt and send a prompt to OpenAI\n",
    "def elastic_rag(query):\n",
    "    search_results = elastic_filtered_search(query)\n",
    "    prompt = build_prompt(query, search_results)\n",
    "    answer = llm(prompt)\n",
    "    \n",
    "    return answer"
   ]
  },
  {
   "cell_type": "code",
   "execution_count": 23,
   "id": "180c4ecf-6bca-430e-aafd-9a5bfb628d1c",
   "metadata": {},
   "outputs": [
    {
     "name": "stdout",
     "output_type": "stream",
     "text": [
      "To execute a command in a running Docker container, follow these steps:\n",
      "\n",
      "1. First, identify the container ID of the running container by using the `docker ps` command:\n",
      "   ```\n",
      "   docker ps\n",
      "   ```\n",
      "\n",
      "2. Once you have the container ID, use the `docker exec` command to run a command inside the container. For example, to start a bash session, use:\n",
      "   ```\n",
      "   docker exec -it <container-id> bash\n",
      "   ```\n",
      "\n",
      "Replace `<container-id>` with the actual ID of the container you want to access.\n"
     ]
    }
   ],
   "source": [
    "print(elastic_rag(query))"
   ]
  },
  {
   "cell_type": "code",
   "execution_count": null,
   "id": "4066c40d-3794-4dfa-b158-41a4d40d3fb9",
   "metadata": {},
   "outputs": [],
   "source": []
  }
 ],
 "metadata": {
  "kernelspec": {
   "display_name": "Python 3 (ipykernel)",
   "language": "python",
   "name": "python3"
  },
  "language_info": {
   "codemirror_mode": {
    "name": "ipython",
    "version": 3
   },
   "file_extension": ".py",
   "mimetype": "text/x-python",
   "name": "python",
   "nbconvert_exporter": "python",
   "pygments_lexer": "ipython3",
   "version": "3.10.13"
  }
 },
 "nbformat": 4,
 "nbformat_minor": 5
}
